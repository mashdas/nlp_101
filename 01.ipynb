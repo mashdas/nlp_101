{
  "nbformat": 4,
  "nbformat_minor": 0,
  "metadata": {
    "colab": {
      "name": "01.ipynb",
      "provenance": [],
      "authorship_tag": "ABX9TyMKbGl0PENxcpJ829aqXy46",
      "include_colab_link": true
    },
    "kernelspec": {
      "name": "python3",
      "display_name": "Python 3"
    }
  },
  "cells": [
    {
      "cell_type": "markdown",
      "metadata": {
        "id": "view-in-github",
        "colab_type": "text"
      },
      "source": [
        "<a href=\"https://colab.research.google.com/github/mashdas/nlp_101/blob/master/01.ipynb\" target=\"_parent\"><img src=\"https://colab.research.google.com/assets/colab-badge.svg\" alt=\"Open In Colab\"/></a>"
      ]
    },
    {
      "cell_type": "code",
      "metadata": {
        "id": "nuFs6Iafal3o",
        "colab_type": "code",
        "outputId": "98caf3a2-f6ae-415a-8e3c-8f40bf3b0b82",
        "colab": {
          "base_uri": "https://localhost:8080/",
          "height": 173
        }
      },
      "source": [
        "import tensorflow as tf\n",
        "from tensorflow import keras\n",
        "from tensorflow.keras.preprocessing.text import Tokenizer\n",
        "from tensorflow.keras.preprocessing.sequence import pad_sequences\n",
        "\n",
        "sentences=[\n",
        "           'Bley de la bley',\n",
        "           'Bley Blu bla bley',\n",
        "           \"me poo pu!\"\n",
        "]\n",
        "\n",
        "tokenizer=Tokenizer(num_words=100,oov_token='<OOV>')\n",
        "tokenizer.fit_on_texts(sentences)\n",
        "tokenizer.word_index"
      ],
      "execution_count": 0,
      "outputs": [
        {
          "output_type": "execute_result",
          "data": {
            "text/plain": [
              "{'<OOV>': 1,\n",
              " 'bla': 6,\n",
              " 'bley': 2,\n",
              " 'blu': 5,\n",
              " 'de': 3,\n",
              " 'la': 4,\n",
              " 'me': 7,\n",
              " 'poo': 8,\n",
              " 'pu': 9}"
            ]
          },
          "metadata": {
            "tags": []
          },
          "execution_count": 12
        }
      ]
    },
    {
      "cell_type": "code",
      "metadata": {
        "id": "PywYxv0Hbd0v",
        "colab_type": "code",
        "outputId": "d685ebeb-dd2e-47d0-fd77-b0a91c387060",
        "colab": {
          "base_uri": "https://localhost:8080/",
          "height": 34
        }
      },
      "source": [
        "##Converting sentences to sequences\n",
        "\n",
        "sequences=tokenizer.texts_to_sequences(sentences)\n",
        "sequences"
      ],
      "execution_count": 0,
      "outputs": [
        {
          "output_type": "execute_result",
          "data": {
            "text/plain": [
              "[[1, 2, 3, 1], [1, 4, 5, 1], [6, 7, 8]]"
            ]
          },
          "metadata": {
            "tags": []
          },
          "execution_count": 5
        }
      ]
    },
    {
      "cell_type": "code",
      "metadata": {
        "id": "g5LHs140nOYX",
        "colab_type": "code",
        "colab": {}
      },
      "source": [
        "test_data=[\"Ble de la bley maiahi\",\n",
        "           \"Bley blu bla bley mai ahahaa\"]\n",
        "test_seq=tokenizer.texts_to_sequences(test_data)"
      ],
      "execution_count": 0,
      "outputs": []
    },
    {
      "cell_type": "code",
      "metadata": {
        "id": "CC_o9i0cnlYU",
        "colab_type": "code",
        "outputId": "789cceb4-ed36-49d5-a934-167d19ed0051",
        "colab": {
          "base_uri": "https://localhost:8080/",
          "height": 34
        }
      },
      "source": [
        "test_seq"
      ],
      "execution_count": 0,
      "outputs": [
        {
          "output_type": "execute_result",
          "data": {
            "text/plain": [
              "[[2, 3, 1], [1, 4, 5, 1]]"
            ]
          },
          "metadata": {
            "tags": []
          },
          "execution_count": 7
        }
      ]
    },
    {
      "cell_type": "code",
      "metadata": {
        "id": "m45gBIuAnmzq",
        "colab_type": "code",
        "colab": {}
      },
      "source": [
        "# the first sentence has five words,but in the sequence we have only 3 digits\n",
        "#it's cuz the words are not present in our current vocabulary\n",
        "#we can adjust the LENGTH ONLY by passi9ng the oov_token in our tokenizer"
      ],
      "execution_count": 0,
      "outputs": []
    },
    {
      "cell_type": "code",
      "metadata": {
        "id": "nK86WU1moc1R",
        "colab_type": "code",
        "outputId": "eafbbdfe-6505-42d7-a8ea-3ce338baffe4",
        "colab": {
          "base_uri": "https://localhost:8080/",
          "height": 34
        }
      },
      "source": [
        "test_seq"
      ],
      "execution_count": 0,
      "outputs": [
        {
          "output_type": "execute_result",
          "data": {
            "text/plain": [
              "[[1, 3, 4, 2, 1], [2, 5, 6, 2, 1, 1]]"
            ]
          },
          "metadata": {
            "tags": []
          },
          "execution_count": 10
        }
      ]
    },
    {
      "cell_type": "code",
      "metadata": {
        "id": "7YcgAeq5oesI",
        "colab_type": "code",
        "outputId": "9cad936f-dab0-440d-bde7-9f12170b7089",
        "colab": {
          "base_uri": "https://localhost:8080/",
          "height": 173
        }
      },
      "source": [
        "##VOILA...now checking the word_index\n",
        "tokenizer.word_index"
      ],
      "execution_count": 0,
      "outputs": [
        {
          "output_type": "execute_result",
          "data": {
            "text/plain": [
              "{'<OOV>': 1,\n",
              " 'bla': 6,\n",
              " 'bley': 2,\n",
              " 'blu': 5,\n",
              " 'de': 3,\n",
              " 'la': 4,\n",
              " 'me': 7,\n",
              " 'poo': 8,\n",
              " 'pu': 9}"
            ]
          },
          "metadata": {
            "tags": []
          },
          "execution_count": 11
        }
      ]
    },
    {
      "cell_type": "code",
      "metadata": {
        "id": "9t6wU7Stoz_b",
        "colab_type": "code",
        "outputId": "818e20fe-589a-433c-c011-e951676d0a6a",
        "colab": {
          "base_uri": "https://localhost:8080/",
          "height": 52
        }
      },
      "source": [
        "#Now since neural network expects a fixed i/p shape,we have to do something\n",
        "#about our sentences that might not be always of the same length\n",
        "#The instructor mentions about RAGGED TENSOR but says it's out of scope \n",
        "#and advises for noe to use padding\n",
        "##NOTE----->FIND OUT ABOUT RAGGED TENSOR\n",
        "\n",
        "padded=pad_sequences(test_seq)\n",
        "padded"
      ],
      "execution_count": 0,
      "outputs": [
        {
          "output_type": "execute_result",
          "data": {
            "text/plain": [
              "array([[0, 1, 3, 4, 2, 1],\n",
              "       [2, 5, 6, 2, 1, 1]], dtype=int32)"
            ]
          },
          "metadata": {
            "tags": []
          },
          "execution_count": 16
        }
      ]
    },
    {
      "cell_type": "code",
      "metadata": {
        "id": "XeTSURo9qS1_",
        "colab_type": "code",
        "colab": {}
      },
      "source": [
        ""
      ],
      "execution_count": 0,
      "outputs": []
    }
  ]
}