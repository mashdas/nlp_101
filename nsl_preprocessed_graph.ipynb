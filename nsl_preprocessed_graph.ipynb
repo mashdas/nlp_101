{
  "nbformat": 4,
  "nbformat_minor": 0,
  "metadata": {
    "colab": {
      "name": "nsl_preprocessed_graph.ipynb",
      "provenance": [],
      "collapsed_sections": [],
      "authorship_tag": "ABX9TyPD75zODzZR1l21dQ6DbRmo",
      "include_colab_link": true
    },
    "kernelspec": {
      "name": "python3",
      "display_name": "Python 3"
    }
  },
  "cells": [
    {
      "cell_type": "markdown",
      "metadata": {
        "id": "view-in-github",
        "colab_type": "text"
      },
      "source": [
        "<a href=\"https://colab.research.google.com/github/mashdas/nlp_101/blob/master/nsl_preprocessed_graph.ipynb\" target=\"_parent\"><img src=\"https://colab.research.google.com/assets/colab-badge.svg\" alt=\"Open In Colab\"/></a>"
      ]
    },
    {
      "cell_type": "code",
      "metadata": {
        "id": "gcOHtSNi9Z2Q",
        "colab_type": "code",
        "colab": {
          "base_uri": "https://localhost:8080/",
          "height": 141
        },
        "outputId": "75903ad3-f1e0-4646-d8b0-ca986a3b8a1f"
      },
      "source": [
        "##WE DON'T HAVE A GRAPH IN THIS SCENARIO\n",
        "##HERE IP vectors are plotted into the embedding space.The one near to one another \n",
        "##are considered as neighbors and a graph is constructed \n",
        "\n",
        "!pip install neural_structured_learning\n",
        "import neural_structured_learning as nsl\n",
        "import tensorflow as tf\n",
        "import tensorflow_hub as hub##Check\n"
      ],
      "execution_count": 10,
      "outputs": [
        {
          "output_type": "stream",
          "text": [
            "Requirement already satisfied: neural_structured_learning in /usr/local/lib/python3.6/dist-packages (1.1.0)\n",
            "Requirement already satisfied: attrs in /usr/local/lib/python3.6/dist-packages (from neural_structured_learning) (19.3.0)\n",
            "Requirement already satisfied: absl-py in /usr/local/lib/python3.6/dist-packages (from neural_structured_learning) (0.9.0)\n",
            "Requirement already satisfied: scipy in /usr/local/lib/python3.6/dist-packages (from neural_structured_learning) (1.4.1)\n",
            "Requirement already satisfied: six in /usr/local/lib/python3.6/dist-packages (from neural_structured_learning) (1.12.0)\n",
            "Requirement already satisfied: numpy>=1.13.3 in /usr/local/lib/python3.6/dist-packages (from scipy->neural_structured_learning) (1.18.4)\n"
          ],
          "name": "stdout"
        }
      ]
    },
    {
      "cell_type": "code",
      "metadata": {
        "id": "Iw3Opx8H91Q-",
        "colab_type": "code",
        "colab": {}
      },
      "source": [
        "imdb=tf.keras.datasets.imdb\n",
        "pp_train_data,pp_train_labels=(imdb.load_data(num_words=10000))"
      ],
      "execution_count": 0,
      "outputs": []
    },
    {
      "cell_type": "code",
      "metadata": {
        "id": "C73BzFYA-Osi",
        "colab_type": "code",
        "colab": {}
      },
      "source": [
        "##Embedding-->to find which review is similar to another,i.e finding neighbors"
      ],
      "execution_count": 0,
      "outputs": []
    },
    {
      "cell_type": "code",
      "metadata": {
        "id": "D9Q6Dkyz-s2F",
        "colab_type": "code",
        "colab": {}
      },
      "source": [
        "pretrained_embedding=\"https://tfhub.dev/google/tf2-preview/gnews-swivel-20dim/1\""
      ],
      "execution_count": 0,
      "outputs": []
    },
    {
      "cell_type": "code",
      "metadata": {
        "id": "yZo65KCkAC8Y",
        "colab_type": "code",
        "colab": {}
      },
      "source": [
        "hub_layer=hub.KerasLayer(pretrained_embedding,input_shape=[],dtype=tf.string,trainable=True)\n"
      ],
      "execution_count": 0,
      "outputs": []
    },
    {
      "cell_type": "code",
      "metadata": {
        "id": "iBYqT9vKAOwU",
        "colab_type": "code",
        "colab": {}
      },
      "source": [
        "\n",
        "\n",
        "##Generating the embedding...think of it as projecting the imdb \n",
        "#reviews into a \"embedding\" space of sorts..the ones nearest are the neighbors\n",
        "record_id=int(0)\n",
        "with tf.io.TFRecordWriter('/tmp/imdb/embeddings.tfr') as writer:\n",
        "  for word_vector in pp_train_data:\n",
        "    text=decode_review(word_vector)\n",
        "    sentence_embedding=hub_layer(tf.reshape(text,shape=[-1]))\n",
        "    sentence_embedding=tf.reshape(sentence_embedding,shape=[-1])\n",
        "    write_embedding_example(sentence_embedding,record_id)\n",
        "    record_id+=1\n",
        "##verify decode_review function purpose with Mr.M   "
      ],
      "execution_count": 0,
      "outputs": []
    },
    {
      "cell_type": "code",
      "metadata": {
        "id": "WqIC_f_gDAEs",
        "colab_type": "code",
        "colab": {}
      },
      "source": [
        "##Build graph function from embedding\n",
        "\n",
        "nsl.tools.build_graph(['/tmp/imdb/embeddings.tfr'],'/tmp/imdb/graph_99.tsv',similarity_threshold=0.8)\n",
        "##graph_99.tsv is missing..also what does it do ?\n",
        "\n",
        "##THIS PART IS NOT CLEAR TO ME\n",
        "##CREATTING Examle Features\n",
        "\n",
        "next_record_id=create_example(pp_train_data,pp_train_labels,'/tmp/imdb/train_data.tfr',starting_record_id=0)\n",
        "create_example(pp_test_data,pp_test_labels,'/tmp/imdb/test_data.tfr',starting_record_id=next_record_id)\n",
        "##HAVE NO IDEA WHAT's GOING ON WITH THE ABOVE TWO LINES\n",
        "##WILL ASK Mr.MORONEY WHEN I GET THE CHANCE\n"
      ],
      "execution_count": 0,
      "outputs": []
    },
    {
      "cell_type": "code",
      "metadata": {
        "id": "lJqB5XmChOnV",
        "colab_type": "code",
        "colab": {}
      },
      "source": [
        "##Augmentimg training data by merging neighbors into sample features\n",
        "\n",
        "nsl.tools.pack_nbrs('/tmp/imdb/train_data.tfr',\n",
        "                    '/tmp/imdb/graph_99.tsv',\n",
        "                    '/tmp/imdb/nsl_train_data.tfr',\n",
        "                    add_unidirected_edges=True,max_nbrs=3)"
      ],
      "execution_count": 0,
      "outputs": []
    },
    {
      "cell_type": "code",
      "metadata": {
        "id": "bQLlJhkUiS6Z",
        "colab_type": "code",
        "colab": {}
      },
      "source": [
        "##Extract features\n",
        "\n",
        "train_ds,test_ds=make_dataset('/tmp/imdb/nsl_train.tfr','/tmp/imdb/test.tfr')"
      ],
      "execution_count": 0,
      "outputs": []
    },
    {
      "cell_type": "code",
      "metadata": {
        "id": "68wX4K8zi055",
        "colab_type": "code",
        "colab": {}
      },
      "source": [
        "##Base model..could be any model\n",
        "from tensorflow.keras import Sequential"
      ],
      "execution_count": 0,
      "outputs": []
    },
    {
      "cell_type": "code",
      "metadata": {
        "id": "PbEv-07Ri-o9",
        "colab_type": "code",
        "colab": {}
      },
      "source": [
        "base_model=Sequential()\n",
        "base_model.add()##YOUR CHOICE\n",
        "##BUILD ONE !\n"
      ],
      "execution_count": 0,
      "outputs": []
    },
    {
      "cell_type": "code",
      "metadata": {
        "id": "eOLXrfVnjaRv",
        "colab_type": "code",
        "colab": {}
      },
      "source": [
        "##WRAP the base model with graph regularization\n",
        "\n",
        "graph_config=nsl.configs.GraphReConfig(neighbor_config=nsl.configs.GraphNeighborConfig(max_neighbors=2))\n",
        "graph_model=nsl.keras.GraphRegularization(base_model,graph_config)"
      ],
      "execution_count": 0,
      "outputs": []
    },
    {
      "cell_type": "code",
      "metadata": {
        "id": "JkiQ_zBlj_ku",
        "colab_type": "code",
        "colab": {}
      },
      "source": [
        "##COMPILE,TRAIN,EVALUATE\n",
        "graph_model.compile(opimizer=\"adam\",loss=\"sparse_categorical_crossentorpy\",metrics=[\"accuracy\"])\n",
        "graph_model.fit(train_ds,epochs=2)\n",
        "graph_model.evaluate(test_ds)"
      ],
      "execution_count": 0,
      "outputs": []
    }
  ]
}