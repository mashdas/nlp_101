{
  "nbformat": 4,
  "nbformat_minor": 0,
  "metadata": {
    "colab": {
      "name": "sarcasmDetector.ipynb",
      "provenance": [],
      "authorship_tag": "ABX9TyNt7MLcpTIS+U4mkQm30V97",
      "include_colab_link": true
    },
    "kernelspec": {
      "name": "python3",
      "display_name": "Python 3"
    }
  },
  "cells": [
    {
      "cell_type": "markdown",
      "metadata": {
        "id": "view-in-github",
        "colab_type": "text"
      },
      "source": [
        "<a href=\"https://colab.research.google.com/github/mashdas/nlp_101/blob/master/sarcasmDetector.ipynb\" target=\"_parent\"><img src=\"https://colab.research.google.com/assets/colab-badge.svg\" alt=\"Open In Colab\"/></a>"
      ]
    },
    {
      "cell_type": "code",
      "metadata": {
        "id": "Fz_6GLevsEIA",
        "colab_type": "code",
        "colab": {}
      },
      "source": [
        "!wget --no-check-certificate \\\n",
        "    https://storage.googleapis.com/laurencemoroney-blog.appspot.com/sarcasm.json \\\n",
        "    -O /tmp/sarcasm.json\n"
      ],
      "execution_count": 0,
      "outputs": []
    },
    {
      "cell_type": "code",
      "metadata": {
        "colab_type": "code",
        "id": "BQVuQrZNkPn9",
        "colab": {}
      },
      "source": [
        "\n",
        "import json\n",
        "\n",
        "\n",
        "with open(\"/tmp/sarcasm.json\") as f:\n",
        "  datastore=json.load(f)\n",
        "\n",
        "sentences,labels,urls=[],[],[]\n",
        "for x in datastore:\n",
        "  sentences.append(x[\"headline\"])\n",
        "  labels.append(x[\"is_sarcastic\"])\n",
        "  urls.append(x[\"article_link\"])  "
      ],
      "execution_count": 0,
      "outputs": []
    },
    {
      "cell_type": "code",
      "metadata": {
        "id": "NBGLGO_VtHDX",
        "colab_type": "code",
        "colab": {}
      },
      "source": [
        "from tensorflow.keras.preprocessing.text import Tokenizer\n",
        "from tensorflow.keras.preprocessing.sequence import pad_sequences\n",
        "tokenizer=Tokenizer(oov_token=\"<OOV>\")\n",
        "tokenizer.fit_on_texts(sentences)\n",
        "word_index=tokenizer.word_index"
      ],
      "execution_count": 0,
      "outputs": []
    },
    {
      "cell_type": "code",
      "metadata": {
        "id": "m4qRWHJY7k9j",
        "colab_type": "code",
        "colab": {
          "base_uri": "https://localhost:8080/",
          "height": 34
        },
        "outputId": "d682c770-6735-49aa-9f71-e45a5af8c700"
      },
      "source": [
        "word_index[\"and\"]"
      ],
      "execution_count": 58,
      "outputs": [
        {
          "output_type": "execute_result",
          "data": {
            "text/plain": [
              "9"
            ]
          },
          "metadata": {
            "tags": []
          },
          "execution_count": 58
        }
      ]
    },
    {
      "cell_type": "code",
      "metadata": {
        "id": "RKbxHSYa8yS4",
        "colab_type": "code",
        "colab": {
          "base_uri": "https://localhost:8080/",
          "height": 34
        },
        "outputId": "80cd13ae-8be1-454a-a7eb-879ff1fa8f7d"
      },
      "source": [
        "sequences=tokenizer.texts_to_sequences(sentences)\n",
        "padded=pad_sequences(sequences,padding=\"post\")\n",
        "print(padded.shape)"
      ],
      "execution_count": 19,
      "outputs": [
        {
          "output_type": "stream",
          "text": [
            "(26709, 40)\n"
          ],
          "name": "stdout"
        }
      ]
    },
    {
      "cell_type": "code",
      "metadata": {
        "id": "yDoxpowq9JoG",
        "colab_type": "code",
        "colab": {}
      },
      "source": [
        "vocab_size = 10000\n",
        "embedding_dim = 16\n",
        "max_length = 100\n",
        "trunc_type='post'\n",
        "padding_type='post'\n"
      ],
      "execution_count": 0,
      "outputs": []
    },
    {
      "cell_type": "code",
      "metadata": {
        "id": "uCOF0yWi9MgG",
        "colab_type": "code",
        "colab": {}
      },
      "source": [
        "##Splitting test data and Training Data\n",
        "t_size=20000\n",
        "training_sentences=sentences[0:t_size]\n",
        "testing_sentences=sentences[t_size:]\n",
        "training_labels=labels[0:t_size]\n",
        "testing_labels=labels[t_size:]\n",
        "\n",
        "##Now,we also need to create a new vocabulary for the training sentences\n",
        "tk=Tokenizer(num_words=vocab_size,oov_token=\"<OOV>\")\n",
        "tk.fit_on_texts(training_sentences)"
      ],
      "execution_count": 0,
      "outputs": []
    },
    {
      "cell_type": "code",
      "metadata": {
        "id": "sD8sUK2BDt0z",
        "colab_type": "code",
        "colab": {}
      },
      "source": [
        "w_index=tk.word_index\n"
      ],
      "execution_count": 0,
      "outputs": []
    },
    {
      "cell_type": "code",
      "metadata": {
        "colab_type": "code",
        "id": "0eJSTTYnkJQd",
        "colab": {}
      },
      "source": [
        "\n"
      ],
      "execution_count": 0,
      "outputs": []
    },
    {
      "cell_type": "code",
      "metadata": {
        "id": "MbHY59DKDwxy",
        "colab_type": "code",
        "colab": {}
      },
      "source": [
        "training_sequences = tk.texts_to_sequences(training_sentences)\n",
        "training_padded = pad_sequences(training_sequences, maxlen=max_length, padding=padding_type, truncating=trunc_type)\n",
        "\n",
        "testing_sequences = tk.texts_to_sequences(testing_sentences)\n",
        "testing_padded = pad_sequences(testing_sequences, maxlen=max_length, padding=padding_type, truncating=trunc_type)"
      ],
      "execution_count": 0,
      "outputs": []
    },
    {
      "cell_type": "code",
      "metadata": {
        "id": "VCngs8_4I6eh",
        "colab_type": "code",
        "colab": {}
      },
      "source": [
        "import numpy as np\n",
        "training_padded = np.array(training_padded)\n",
        "training_labels = np.array(training_labels)\n",
        "testing_padded = np.array(testing_padded)\n",
        "testing_labels = np.array(testing_labels)"
      ],
      "execution_count": 0,
      "outputs": []
    },
    {
      "cell_type": "code",
      "metadata": {
        "id": "RkLksw3pFv38",
        "colab_type": "code",
        "colab": {}
      },
      "source": [
        "import tensorflow as tf\n",
        "from tensorflow.keras.layers import Embedding,GlobalAveragePooling1D,Dense"
      ],
      "execution_count": 0,
      "outputs": []
    },
    {
      "cell_type": "code",
      "metadata": {
        "id": "71YbNz5oGNxb",
        "colab_type": "code",
        "colab": {}
      },
      "source": [
        ""
      ],
      "execution_count": 0,
      "outputs": []
    },
    {
      "cell_type": "code",
      "metadata": {
        "id": "4C4iZxhzGZo2",
        "colab_type": "code",
        "colab": {}
      },
      "source": [
        "model = tf.keras.Sequential()\n",
        "model.add(Embedding(vocab_size, embedding_dim, input_length=max_length))\n",
        "model.add(GlobalAveragePooling1D())\n",
        "model.add(Dense(24, activation='relu'))\n",
        "model.add(Dense(1, activation='sigmoid'))"
      ],
      "execution_count": 0,
      "outputs": []
    },
    {
      "cell_type": "code",
      "metadata": {
        "id": "eYmL2AsfG5dl",
        "colab_type": "code",
        "colab": {}
      },
      "source": [
        "model.compile(loss=\"binary_crossentropy\",optimizer=\"adam\",metrics=[\"accuracy\"])"
      ],
      "execution_count": 0,
      "outputs": []
    },
    {
      "cell_type": "code",
      "metadata": {
        "id": "71auIA4cH_UR",
        "colab_type": "code",
        "colab": {
          "base_uri": "https://localhost:8080/",
          "height": 1000
        },
        "outputId": "83b15228-61ba-42aa-834f-096b025eb3ed"
      },
      "source": [
        "model.summary()\n",
        "history = model.fit(training_padded, training_labels, epochs=30, validation_data=(testing_padded, testing_labels), verbose=2)"
      ],
      "execution_count": 81,
      "outputs": [
        {
          "output_type": "stream",
          "text": [
            "Model: \"sequential_5\"\n",
            "_________________________________________________________________\n",
            "Layer (type)                 Output Shape              Param #   \n",
            "=================================================================\n",
            "embedding_4 (Embedding)      (None, 100, 16)           160000    \n",
            "_________________________________________________________________\n",
            "global_average_pooling1d_4 ( (None, 16)                0         \n",
            "_________________________________________________________________\n",
            "dense_8 (Dense)              (None, 24)                408       \n",
            "_________________________________________________________________\n",
            "dense_9 (Dense)              (None, 1)                 25        \n",
            "=================================================================\n",
            "Total params: 160,433\n",
            "Trainable params: 160,433\n",
            "Non-trainable params: 0\n",
            "_________________________________________________________________\n",
            "Epoch 1/30\n",
            "625/625 - 2s - loss: 0.6604 - accuracy: 0.5857 - val_loss: 0.5696 - val_accuracy: 0.6967\n",
            "Epoch 2/30\n",
            "625/625 - 2s - loss: 0.4158 - accuracy: 0.8354 - val_loss: 0.3775 - val_accuracy: 0.8423\n",
            "Epoch 3/30\n",
            "625/625 - 2s - loss: 0.3019 - accuracy: 0.8791 - val_loss: 0.3554 - val_accuracy: 0.8451\n",
            "Epoch 4/30\n",
            "625/625 - 2s - loss: 0.2513 - accuracy: 0.9020 - val_loss: 0.3424 - val_accuracy: 0.8560\n",
            "Epoch 5/30\n",
            "625/625 - 2s - loss: 0.2176 - accuracy: 0.9169 - val_loss: 0.3454 - val_accuracy: 0.8538\n",
            "Epoch 6/30\n",
            "625/625 - 2s - loss: 0.1910 - accuracy: 0.9277 - val_loss: 0.3665 - val_accuracy: 0.8471\n",
            "Epoch 7/30\n",
            "625/625 - 2s - loss: 0.1681 - accuracy: 0.9378 - val_loss: 0.3757 - val_accuracy: 0.8504\n",
            "Epoch 8/30\n",
            "625/625 - 2s - loss: 0.1513 - accuracy: 0.9435 - val_loss: 0.3825 - val_accuracy: 0.8542\n",
            "Epoch 9/30\n",
            "625/625 - 2s - loss: 0.1346 - accuracy: 0.9514 - val_loss: 0.4178 - val_accuracy: 0.8419\n",
            "Epoch 10/30\n",
            "625/625 - 2s - loss: 0.1218 - accuracy: 0.9579 - val_loss: 0.4610 - val_accuracy: 0.8331\n",
            "Epoch 11/30\n",
            "625/625 - 2s - loss: 0.1117 - accuracy: 0.9600 - val_loss: 0.4608 - val_accuracy: 0.8423\n",
            "Epoch 12/30\n",
            "625/625 - 2s - loss: 0.1018 - accuracy: 0.9654 - val_loss: 0.4725 - val_accuracy: 0.8462\n",
            "Epoch 13/30\n",
            "625/625 - 2s - loss: 0.0908 - accuracy: 0.9689 - val_loss: 0.5004 - val_accuracy: 0.8442\n",
            "Epoch 14/30\n",
            "625/625 - 2s - loss: 0.0836 - accuracy: 0.9725 - val_loss: 0.5419 - val_accuracy: 0.8360\n",
            "Epoch 15/30\n",
            "625/625 - 2s - loss: 0.0761 - accuracy: 0.9754 - val_loss: 0.5627 - val_accuracy: 0.8380\n",
            "Epoch 16/30\n",
            "625/625 - 2s - loss: 0.0687 - accuracy: 0.9776 - val_loss: 0.6003 - val_accuracy: 0.8338\n",
            "Epoch 17/30\n",
            "625/625 - 2s - loss: 0.0646 - accuracy: 0.9787 - val_loss: 0.6477 - val_accuracy: 0.8296\n",
            "Epoch 18/30\n",
            "625/625 - 2s - loss: 0.0591 - accuracy: 0.9809 - val_loss: 0.6696 - val_accuracy: 0.8296\n",
            "Epoch 19/30\n",
            "625/625 - 2s - loss: 0.0534 - accuracy: 0.9842 - val_loss: 0.7005 - val_accuracy: 0.8278\n",
            "Epoch 20/30\n",
            "625/625 - 2s - loss: 0.0499 - accuracy: 0.9844 - val_loss: 0.7507 - val_accuracy: 0.8205\n",
            "Epoch 21/30\n",
            "625/625 - 2s - loss: 0.0469 - accuracy: 0.9848 - val_loss: 0.7763 - val_accuracy: 0.8232\n",
            "Epoch 22/30\n",
            "625/625 - 2s - loss: 0.0421 - accuracy: 0.9872 - val_loss: 0.8081 - val_accuracy: 0.8223\n",
            "Epoch 23/30\n",
            "625/625 - 2s - loss: 0.0381 - accuracy: 0.9884 - val_loss: 0.8468 - val_accuracy: 0.8214\n",
            "Epoch 24/30\n",
            "625/625 - 2s - loss: 0.0371 - accuracy: 0.9887 - val_loss: 0.8884 - val_accuracy: 0.8177\n",
            "Epoch 25/30\n",
            "625/625 - 2s - loss: 0.0353 - accuracy: 0.9888 - val_loss: 0.9173 - val_accuracy: 0.8170\n",
            "Epoch 26/30\n",
            "625/625 - 2s - loss: 0.0298 - accuracy: 0.9916 - val_loss: 0.9672 - val_accuracy: 0.8128\n",
            "Epoch 27/30\n",
            "625/625 - 2s - loss: 0.0302 - accuracy: 0.9909 - val_loss: 1.0009 - val_accuracy: 0.8140\n",
            "Epoch 28/30\n",
            "625/625 - 2s - loss: 0.0255 - accuracy: 0.9929 - val_loss: 1.0281 - val_accuracy: 0.8149\n",
            "Epoch 29/30\n",
            "625/625 - 2s - loss: 0.0236 - accuracy: 0.9933 - val_loss: 1.0676 - val_accuracy: 0.8123\n",
            "Epoch 30/30\n",
            "625/625 - 2s - loss: 0.0227 - accuracy: 0.9934 - val_loss: 1.1164 - val_accuracy: 0.8120\n"
          ],
          "name": "stdout"
        }
      ]
    },
    {
      "cell_type": "code",
      "metadata": {
        "id": "u_rHfO2yIDoW",
        "colab_type": "code",
        "colab": {
          "base_uri": "https://localhost:8080/",
          "height": 541
        },
        "outputId": "69416da0-6d91-43f7-897a-e39e654b5a56"
      },
      "source": [
        "import matplotlib.pyplot as plt\n",
        "\n",
        "\n",
        "def plot_graphs(history, string):\n",
        "  plt.plot(history.history[string])\n",
        "  plt.plot(history.history['val_'+string])\n",
        "  plt.xlabel(\"Epochs\")\n",
        "  plt.ylabel(string)\n",
        "  plt.legend([string, 'val_'+string])\n",
        "  plt.show()\n",
        "  \n",
        "plot_graphs(history, \"accuracy\")\n",
        "plot_graphs(history, \"loss\")"
      ],
      "execution_count": 82,
      "outputs": [
        {
          "output_type": "display_data",
          "data": {
            "image/png": "[encoded data removed]",
            "text/plain": [
              "<Figure size 432x288 with 1 Axes>"
            ]
          },
          "metadata": {
            "tags": [],
            "needs_background": "light"
          }
        },
        {
          "output_type": "display_data",
          "data": {
            "image/png": "[encoded data removed]",
            "text/plain": [
              "<Figure size 432x288 with 1 Axes>"
            ]
          },
          "metadata": {
            "tags": [],
            "needs_background": "light"
          }
        }
      ]
    },
    {
      "cell_type": "code",
      "metadata": {
        "id": "DzWrZO7ENQg5",
        "colab_type": "code",
        "colab": {
          "base_uri": "https://localhost:8080/",
          "height": 52
        },
        "outputId": "ad302116-0682-4681-c6ba-db8387acd530"
      },
      "source": [
        "sentence = [\"Yeah right, Bakshi cooks the best roasted chicken pie in the whole wide world\", \"game of thrones season finale showing this sunday night\"]\n",
        "sequences = tk.texts_to_sequences(sentence)\n",
        "padded = pad_sequences(sequences, maxlen=max_length, padding=padding_type, truncating=trunc_type)\n",
        "print(model.predict(padded))"
      ],
      "execution_count": 97,
      "outputs": [
        {
          "output_type": "stream",
          "text": [
            "[[9.9620038e-01]\n",
            " [1.1032246e-05]]\n"
          ],
          "name": "stdout"
        }
      ]
    },
    {
      "cell_type": "code",
      "metadata": {
        "id": "2kcap4ckODKj",
        "colab_type": "code",
        "colab": {}
      },
      "source": [
        "##Should implement early stopping"
      ],
      "execution_count": 0,
      "outputs": []
    }
  ]
}