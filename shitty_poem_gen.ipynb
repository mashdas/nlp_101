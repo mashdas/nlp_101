{
  "nbformat": 4,
  "nbformat_minor": 0,
  "metadata": {
    "colab": {
      "name": "shitty_poem_gen.ipynb",
      "provenance": [],
      "authorship_tag": "ABX9TyMJ+Rxa/nYXIDqNNb96z7Oz",
      "include_colab_link": true
    },
    "kernelspec": {
      "name": "python3",
      "display_name": "Python 3"
    }
  },
  "cells": [
    {
      "cell_type": "markdown",
      "metadata": {
        "id": "view-in-github",
        "colab_type": "text"
      },
      "source": [
        "<a href=\"https://colab.research.google.com/github/mashdas/nlp_101/blob/master/shitty_poem_gen.ipynb\" target=\"_parent\"><img src=\"https://colab.research.google.com/assets/colab-badge.svg\" alt=\"Open In Colab\"/></a>"
      ]
    },
    {
      "cell_type": "code",
      "metadata": {
        "id": "008EA0fCllv-",
        "colab_type": "code",
        "colab": {}
      },
      "source": [
        "import tensorflow as tf\n",
        "\n",
        "from tensorflow.keras.preprocessing.sequence import pad_sequences\n",
        "from tensorflow.keras.layers import Embedding, LSTM, Dense, Bidirectional\n",
        "from tensorflow.keras.preprocessing.text import Tokenizer\n",
        "from tensorflow.keras.models import Sequential\n",
        "from tensorflow.keras.optimizers import Adam\n",
        "import numpy as np "
      ],
      "execution_count": 0,
      "outputs": []
    },
    {
      "cell_type": "code",
      "metadata": {
        "colab_type": "code",
        "id": "BOwsuGQQY9OL",
        "colab": {
          "base_uri": "https://localhost:8080/",
          "height": 208
        },
        "outputId": "f9e5bab3-3f0f-4cc6-f303-e96e4fa1917c"
      },
      "source": [
        "!wget --no-check-certificate \\\n",
        "    https://storage.googleapis.com/laurencemoroney-blog.appspot.com/irish-lyrics-eof.txt \\\n",
        "    -O /tmp/irish-lyrics-eof.txt"
      ],
      "execution_count": 3,
      "outputs": [
        {
          "output_type": "stream",
          "text": [
            "--2020-05-21 09:41:05--  https://storage.googleapis.com/laurencemoroney-blog.appspot.com/irish-lyrics-eof.txt\n",
            "Resolving storage.googleapis.com (storage.googleapis.com)... 173.194.214.128, 2607:f8b0:400c:c15::80\n",
            "Connecting to storage.googleapis.com (storage.googleapis.com)|173.194.214.128|:443... connected.\n",
            "HTTP request sent, awaiting response... 200 OK\n",
            "Length: 68970 (67K) [text/plain]\n",
            "Saving to: ‘/tmp/irish-lyrics-eof.txt’\n",
            "\n",
            "\r          /tmp/iris   0%[                    ]       0  --.-KB/s               \r/tmp/irish-lyrics-e 100%[===================>]  67.35K  --.-KB/s    in 0.001s  \n",
            "\n",
            "2020-05-21 09:41:05 (111 MB/s) - ‘/tmp/irish-lyrics-eof.txt’ saved [68970/68970]\n",
            "\n"
          ],
          "name": "stdout"
        }
      ]
    },
    {
      "cell_type": "code",
      "metadata": {
        "id": "8Kw758Apm41Y",
        "colab_type": "code",
        "colab": {}
      },
      "source": [
        "tk=Tokenizer()\n",
        "\n",
        "data=open('/tmp/irish-lyrics-eof.txt').read()\n",
        "\n",
        "stuff=data.lower().split(\"\\n\")"
      ],
      "execution_count": 0,
      "outputs": []
    },
    {
      "cell_type": "code",
      "metadata": {
        "id": "DyHiDeeznklg",
        "colab_type": "code",
        "colab": {}
      },
      "source": [
        "stuff"
      ],
      "execution_count": 0,
      "outputs": []
    },
    {
      "cell_type": "code",
      "metadata": {
        "id": "ikI38VUcnl_I",
        "colab_type": "code",
        "colab": {}
      },
      "source": [
        "tk.fit_on_texts(stuff)"
      ],
      "execution_count": 0,
      "outputs": []
    },
    {
      "cell_type": "code",
      "metadata": {
        "id": "E-P2HMsCnybQ",
        "colab_type": "code",
        "colab": {}
      },
      "source": [
        "word_index=tk.word_index"
      ],
      "execution_count": 0,
      "outputs": []
    },
    {
      "cell_type": "code",
      "metadata": {
        "id": "4fFxTkvln2ny",
        "colab_type": "code",
        "colab": {
          "base_uri": "https://localhost:8080/",
          "height": 34
        },
        "outputId": "d1d81408-faf0-4b64-bf31-307ea01e8170"
      },
      "source": [
        "total_words=len(word_index)+1##For that one outer vocabulary token\n",
        "total_words"
      ],
      "execution_count": 21,
      "outputs": [
        {
          "output_type": "execute_result",
          "data": {
            "text/plain": [
              "2690"
            ]
          },
          "metadata": {
            "tags": []
          },
          "execution_count": 21
        }
      ]
    },
    {
      "cell_type": "code",
      "metadata": {
        "id": "dKk1Ep9YuLXY",
        "colab_type": "code",
        "colab": {}
      },
      "source": [
        "input_seq=[]\n",
        "for i in stuff:\n",
        "  holder=tk.texts_to_sequences([i])\n",
        "  n_gram_seq=[holder[0][0:x+2] for x in range(len(holder[0])-1)]\n",
        "  input_seq.append(n_gram_seq)\n",
        "\n"
      ],
      "execution_count": 0,
      "outputs": []
    },
    {
      "cell_type": "code",
      "metadata": {
        "id": "W-icxcaWuPGS",
        "colab_type": "code",
        "colab": {}
      },
      "source": [
        "max_sequence_len=max([len(x) for x in input_seq])"
      ],
      "execution_count": 0,
      "outputs": []
    },
    {
      "cell_type": "code",
      "metadata": {
        "id": "C-tXofUpubex",
        "colab_type": "code",
        "colab": {}
      },
      "source": [
        ""
      ],
      "execution_count": 0,
      "outputs": []
    },
    {
      "cell_type": "code",
      "metadata": {
        "id": "BP9WO-m4ueET",
        "colab_type": "code",
        "colab": {}
      },
      "source": [
        "# ##PADDING THEM INPUTS\n",
        "\n",
        "input_seq\n",
        "ip_seq=[]\n",
        "for x in input_seq:\n",
        "  for xi in x:\n",
        "    ip_seq.append(xi)"
      ],
      "execution_count": 0,
      "outputs": []
    },
    {
      "cell_type": "code",
      "metadata": {
        "id": "_73G7t16zuL2",
        "colab_type": "code",
        "colab": {}
      },
      "source": [
        "import numpy as np\n",
        "input_sequences=np.array(pad_sequences(ip_seq,maxlen=max_sequence_len,padding='pre'))"
      ],
      "execution_count": 0,
      "outputs": []
    },
    {
      "cell_type": "code",
      "metadata": {
        "id": "YbamLg_4zwMc",
        "colab_type": "code",
        "colab": {}
      },
      "source": [
        "#Create ips and labels\n",
        "xs,labels=input_sequences[:,:-1],input_sequences[:,-1]\n",
        "ys=tf.keras.utils.to_categorical(labels,num_classes=total_words)"
      ],
      "execution_count": 0,
      "outputs": []
    },
    {
      "cell_type": "code",
      "metadata": {
        "id": "qHUSNf28Dlww",
        "colab_type": "code",
        "colab": {
          "base_uri": "https://localhost:8080/",
          "height": 1000
        },
        "outputId": "ef024be4-9f02-4ea8-818c-f6c5198e0ec6"
      },
      "source": [
        "model=Sequential()\n",
        "model.add(Embedding(total_words,100,input_length=max_sequence_len-1))\n",
        "model.add(Bidirectional(LSTM(150)))\n",
        "model.add(Dense(total_words,activation=\"softmax\"))\n",
        "model.compile(loss=\"categorical_crossentropy\",optimizer=Adam(lr=0.01),metrics=['accuracy'])\n",
        "history=model.fit(xs,ys,epochs=100,verbose=1)"
      ],
      "execution_count": 115,
      "outputs": [
        {
          "output_type": "stream",
          "text": [
            "Epoch 1/100\n",
            "377/377 [==============================] - 22s 58ms/step - loss: 6.6418 - accuracy: 0.0743\n",
            "Epoch 2/100\n",
            "377/377 [==============================] - 21s 57ms/step - loss: 5.7399 - accuracy: 0.1134\n",
            "Epoch 3/100\n",
            "377/377 [==============================] - 21s 57ms/step - loss: 4.9103 - accuracy: 0.1597\n",
            "Epoch 4/100\n",
            "377/377 [==============================] - 21s 57ms/step - loss: 4.0120 - accuracy: 0.2339\n",
            "Epoch 5/100\n",
            "377/377 [==============================] - 22s 57ms/step - loss: 3.1978 - accuracy: 0.3270\n",
            "Epoch 6/100\n",
            "377/377 [==============================] - 22s 57ms/step - loss: 2.4863 - accuracy: 0.4448\n",
            "Epoch 7/100\n",
            "377/377 [==============================] - 21s 57ms/step - loss: 2.0196 - accuracy: 0.5295\n",
            "Epoch 8/100\n",
            "377/377 [==============================] - 22s 57ms/step - loss: 1.6091 - accuracy: 0.6192\n",
            "Epoch 9/100\n",
            "377/377 [==============================] - 22s 57ms/step - loss: 1.3664 - accuracy: 0.6697\n",
            "Epoch 10/100\n",
            "377/377 [==============================] - 22s 58ms/step - loss: 1.1829 - accuracy: 0.7142\n",
            "Epoch 11/100\n",
            "377/377 [==============================] - 21s 57ms/step - loss: 1.0889 - accuracy: 0.7343\n",
            "Epoch 12/100\n",
            "377/377 [==============================] - 21s 57ms/step - loss: 1.0662 - accuracy: 0.7396\n",
            "Epoch 13/100\n",
            "377/377 [==============================] - 21s 57ms/step - loss: 1.0477 - accuracy: 0.7376\n",
            "Epoch 14/100\n",
            "377/377 [==============================] - 22s 57ms/step - loss: 1.1163 - accuracy: 0.7132\n",
            "Epoch 15/100\n",
            "377/377 [==============================] - 22s 58ms/step - loss: 1.0919 - accuracy: 0.7167\n",
            "Epoch 16/100\n",
            "377/377 [==============================] - 22s 58ms/step - loss: 1.0671 - accuracy: 0.7274\n",
            "Epoch 17/100\n",
            "377/377 [==============================] - 21s 57ms/step - loss: 1.0330 - accuracy: 0.7336\n",
            "Epoch 18/100\n",
            "377/377 [==============================] - 22s 57ms/step - loss: 0.9788 - accuracy: 0.7485\n",
            "Epoch 19/100\n",
            "377/377 [==============================] - 22s 57ms/step - loss: 0.9493 - accuracy: 0.7559\n",
            "Epoch 20/100\n",
            "377/377 [==============================] - 22s 59ms/step - loss: 0.8885 - accuracy: 0.7704\n",
            "Epoch 21/100\n",
            "377/377 [==============================] - 26s 69ms/step - loss: 0.8495 - accuracy: 0.7820\n",
            "Epoch 22/100\n",
            "377/377 [==============================] - 22s 57ms/step - loss: 0.8450 - accuracy: 0.7811\n",
            "Epoch 23/100\n",
            "377/377 [==============================] - 22s 57ms/step - loss: 0.8712 - accuracy: 0.7712\n",
            "Epoch 24/100\n",
            "377/377 [==============================] - 22s 58ms/step - loss: 0.9335 - accuracy: 0.7573\n",
            "Epoch 25/100\n",
            "377/377 [==============================] - 22s 58ms/step - loss: 1.0913 - accuracy: 0.7109\n",
            "Epoch 26/100\n",
            "377/377 [==============================] - 22s 58ms/step - loss: 1.0633 - accuracy: 0.7186\n",
            "Epoch 27/100\n",
            "377/377 [==============================] - 22s 58ms/step - loss: 1.0232 - accuracy: 0.7303\n",
            "Epoch 28/100\n",
            "377/377 [==============================] - 22s 58ms/step - loss: 0.9118 - accuracy: 0.7581\n",
            "Epoch 29/100\n",
            "377/377 [==============================] - 22s 58ms/step - loss: 0.8552 - accuracy: 0.7738\n",
            "Epoch 30/100\n",
            "377/377 [==============================] - 22s 58ms/step - loss: 0.8010 - accuracy: 0.7845\n",
            "Epoch 31/100\n",
            "377/377 [==============================] - 22s 58ms/step - loss: 0.8126 - accuracy: 0.7883\n",
            "Epoch 32/100\n",
            "377/377 [==============================] - 22s 58ms/step - loss: 0.8346 - accuracy: 0.7757\n",
            "Epoch 33/100\n",
            "377/377 [==============================] - 22s 58ms/step - loss: 0.8689 - accuracy: 0.7701\n",
            "Epoch 34/100\n",
            "377/377 [==============================] - 22s 58ms/step - loss: 0.9660 - accuracy: 0.7461\n",
            "Epoch 35/100\n",
            "377/377 [==============================] - 22s 57ms/step - loss: 1.0166 - accuracy: 0.7306\n",
            "Epoch 36/100\n",
            "377/377 [==============================] - 22s 58ms/step - loss: 1.0130 - accuracy: 0.7344\n",
            "Epoch 37/100\n",
            "377/377 [==============================] - 22s 58ms/step - loss: 0.9416 - accuracy: 0.7539\n",
            "Epoch 38/100\n",
            "377/377 [==============================] - 22s 58ms/step - loss: 0.8446 - accuracy: 0.7736\n",
            "Epoch 39/100\n",
            "377/377 [==============================] - 22s 57ms/step - loss: 0.8296 - accuracy: 0.7804\n",
            "Epoch 40/100\n",
            "377/377 [==============================] - 22s 57ms/step - loss: 0.8884 - accuracy: 0.7699\n",
            "Epoch 41/100\n",
            "377/377 [==============================] - 22s 57ms/step - loss: 0.9361 - accuracy: 0.7529\n",
            "Epoch 42/100\n",
            "377/377 [==============================] - 22s 57ms/step - loss: 0.9115 - accuracy: 0.7596\n",
            "Epoch 43/100\n",
            "377/377 [==============================] - 22s 58ms/step - loss: 0.8756 - accuracy: 0.7632\n",
            "Epoch 44/100\n",
            "377/377 [==============================] - 22s 58ms/step - loss: 0.8647 - accuracy: 0.7677\n",
            "Epoch 45/100\n",
            "377/377 [==============================] - 22s 57ms/step - loss: 0.8314 - accuracy: 0.7729\n",
            "Epoch 46/100\n",
            "377/377 [==============================] - 22s 57ms/step - loss: 0.8471 - accuracy: 0.7736\n",
            "Epoch 47/100\n",
            "377/377 [==============================] - 22s 58ms/step - loss: 0.8700 - accuracy: 0.7660\n",
            "Epoch 48/100\n",
            "377/377 [==============================] - 27s 70ms/step - loss: 0.8470 - accuracy: 0.7715\n",
            "Epoch 49/100\n",
            "377/377 [==============================] - 22s 58ms/step - loss: 0.8574 - accuracy: 0.7736\n",
            "Epoch 50/100\n",
            "377/377 [==============================] - 21s 57ms/step - loss: 0.8221 - accuracy: 0.7778\n",
            "Epoch 51/100\n",
            "377/377 [==============================] - 22s 57ms/step - loss: 0.8071 - accuracy: 0.7826\n",
            "Epoch 52/100\n",
            "377/377 [==============================] - 21s 57ms/step - loss: 0.8281 - accuracy: 0.7830\n",
            "Epoch 53/100\n",
            "377/377 [==============================] - 22s 57ms/step - loss: 0.8700 - accuracy: 0.7663\n",
            "Epoch 54/100\n",
            "377/377 [==============================] - 21s 57ms/step - loss: 0.8591 - accuracy: 0.7731\n",
            "Epoch 55/100\n",
            "377/377 [==============================] - 22s 57ms/step - loss: 0.8327 - accuracy: 0.7771\n",
            "Epoch 56/100\n",
            "377/377 [==============================] - 22s 57ms/step - loss: 0.8693 - accuracy: 0.7662\n",
            "Epoch 57/100\n",
            "377/377 [==============================] - 22s 57ms/step - loss: 0.8554 - accuracy: 0.7680\n",
            "Epoch 58/100\n",
            "377/377 [==============================] - 22s 58ms/step - loss: 0.8547 - accuracy: 0.7724\n",
            "Epoch 59/100\n",
            "377/377 [==============================] - 22s 57ms/step - loss: 0.8886 - accuracy: 0.7623\n",
            "Epoch 60/100\n",
            "377/377 [==============================] - 22s 57ms/step - loss: 0.8580 - accuracy: 0.7682\n",
            "Epoch 61/100\n",
            "377/377 [==============================] - 21s 57ms/step - loss: 0.8349 - accuracy: 0.7775\n",
            "Epoch 62/100\n",
            "377/377 [==============================] - 21s 57ms/step - loss: 0.8113 - accuracy: 0.7781\n",
            "Epoch 63/100\n",
            "377/377 [==============================] - 21s 57ms/step - loss: 0.8315 - accuracy: 0.7754\n",
            "Epoch 64/100\n",
            "377/377 [==============================] - 21s 57ms/step - loss: 0.7862 - accuracy: 0.7874\n",
            "Epoch 65/100\n",
            "377/377 [==============================] - 21s 57ms/step - loss: 0.7692 - accuracy: 0.7915\n",
            "Epoch 66/100\n",
            "377/377 [==============================] - 22s 57ms/step - loss: 0.7534 - accuracy: 0.7938\n",
            "Epoch 67/100\n",
            "377/377 [==============================] - 21s 57ms/step - loss: 0.7484 - accuracy: 0.8007\n",
            "Epoch 68/100\n",
            "377/377 [==============================] - 21s 56ms/step - loss: 0.7897 - accuracy: 0.7886\n",
            "Epoch 69/100\n",
            "377/377 [==============================] - 21s 56ms/step - loss: 0.8920 - accuracy: 0.7628\n",
            "Epoch 70/100\n",
            "377/377 [==============================] - 21s 56ms/step - loss: 0.9403 - accuracy: 0.7494\n",
            "Epoch 71/100\n",
            "377/377 [==============================] - 21s 57ms/step - loss: 0.9593 - accuracy: 0.7461\n",
            "Epoch 72/100\n",
            "377/377 [==============================] - 22s 57ms/step - loss: 0.9018 - accuracy: 0.7607\n",
            "Epoch 73/100\n",
            "377/377 [==============================] - 22s 57ms/step - loss: 0.8389 - accuracy: 0.7784\n",
            "Epoch 74/100\n",
            "377/377 [==============================] - 21s 56ms/step - loss: 0.7850 - accuracy: 0.7871\n",
            "Epoch 75/100\n",
            "377/377 [==============================] - 21s 56ms/step - loss: 0.7360 - accuracy: 0.8004\n",
            "Epoch 76/100\n",
            "377/377 [==============================] - 23s 61ms/step - loss: 0.7389 - accuracy: 0.8012\n",
            "Epoch 77/100\n",
            "377/377 [==============================] - 25s 66ms/step - loss: 0.7539 - accuracy: 0.7934\n",
            "Epoch 78/100\n",
            "377/377 [==============================] - 21s 56ms/step - loss: 0.7690 - accuracy: 0.7917\n",
            "Epoch 79/100\n",
            "377/377 [==============================] - 21s 57ms/step - loss: 0.8380 - accuracy: 0.7775\n",
            "Epoch 80/100\n",
            "377/377 [==============================] - 21s 57ms/step - loss: 0.8962 - accuracy: 0.7586\n",
            "Epoch 81/100\n",
            "377/377 [==============================] - 21s 57ms/step - loss: 0.9082 - accuracy: 0.7539\n",
            "Epoch 82/100\n",
            "377/377 [==============================] - 21s 57ms/step - loss: 0.8497 - accuracy: 0.7716\n",
            "Epoch 83/100\n",
            "377/377 [==============================] - 21s 56ms/step - loss: 0.7739 - accuracy: 0.7910\n",
            "Epoch 84/100\n",
            "377/377 [==============================] - 21s 56ms/step - loss: 0.7552 - accuracy: 0.7942\n",
            "Epoch 85/100\n",
            "377/377 [==============================] - 21s 57ms/step - loss: 0.7587 - accuracy: 0.7976\n",
            "Epoch 86/100\n",
            "377/377 [==============================] - 21s 57ms/step - loss: 0.7455 - accuracy: 0.8010\n",
            "Epoch 87/100\n",
            "377/377 [==============================] - 22s 57ms/step - loss: 0.7375 - accuracy: 0.8034\n",
            "Epoch 88/100\n",
            "377/377 [==============================] - 21s 56ms/step - loss: 0.7558 - accuracy: 0.7959\n",
            "Epoch 89/100\n",
            "377/377 [==============================] - 21s 56ms/step - loss: 0.8369 - accuracy: 0.7765\n",
            "Epoch 90/100\n",
            "377/377 [==============================] - 21s 56ms/step - loss: 0.9330 - accuracy: 0.7624\n",
            "Epoch 91/100\n",
            "377/377 [==============================] - 21s 55ms/step - loss: 0.9952 - accuracy: 0.7479\n",
            "Epoch 92/100\n",
            "377/377 [==============================] - 21s 55ms/step - loss: 0.9751 - accuracy: 0.7405\n",
            "Epoch 93/100\n",
            "377/377 [==============================] - 21s 56ms/step - loss: 0.8645 - accuracy: 0.7716\n",
            "Epoch 94/100\n",
            "377/377 [==============================] - 21s 56ms/step - loss: 0.7781 - accuracy: 0.7918\n",
            "Epoch 95/100\n",
            "377/377 [==============================] - 21s 56ms/step - loss: 0.7175 - accuracy: 0.8078\n",
            "Epoch 96/100\n",
            "377/377 [==============================] - 21s 56ms/step - loss: 0.7150 - accuracy: 0.8084\n",
            "Epoch 97/100\n",
            "377/377 [==============================] - 21s 56ms/step - loss: 0.7163 - accuracy: 0.8035\n",
            "Epoch 98/100\n",
            "377/377 [==============================] - 21s 56ms/step - loss: 0.7563 - accuracy: 0.7949\n",
            "Epoch 99/100\n",
            "377/377 [==============================] - 21s 56ms/step - loss: 0.8176 - accuracy: 0.7829\n",
            "Epoch 100/100\n",
            "377/377 [==============================] - 21s 56ms/step - loss: 0.8609 - accuracy: 0.7691\n"
          ],
          "name": "stdout"
        }
      ]
    },
    {
      "cell_type": "code",
      "metadata": {
        "id": "BbzdHPdGDoCv",
        "colab_type": "code",
        "colab": {}
      },
      "source": [
        ""
      ],
      "execution_count": 0,
      "outputs": []
    },
    {
      "cell_type": "code",
      "metadata": {
        "colab_type": "code",
        "id": "6Vc6PHgxa6Hm",
        "colab": {
          "base_uri": "https://localhost:8080/",
          "height": 34
        },
        "outputId": "9b9284a1-204f-4478-952e-b74c876078ee"
      },
      "source": [
        "seed_text = \"My name is Jeff\"\n",
        "next_words = 20\n",
        "  \n",
        "for _ in range(next_words):\n",
        "\ttoken_list = tk.texts_to_sequences([seed_text])[0]\n",
        "\ttoken_list = pad_sequences([token_list], maxlen=max_sequence_len-1, padding='pre')\n",
        "\tpredicted = model.predict_classes(token_list, verbose=0)\n",
        "\toutput_word = \"\"\n",
        "\tfor word, index in tk.word_index.items():\n",
        "\t\tif index == predicted:\n",
        "\t\t\toutput_word = word\n",
        "\t\t\tbreak\n",
        "\tseed_text += \" \" + output_word\n",
        "print(seed_text)"
      ],
      "execution_count": 123,
      "outputs": [
        {
          "output_type": "stream",
          "text": [
            "My name is Jeff soothed in solace and much weeping and pain said unseen more meet now now me fists so now now now\n"
          ],
          "name": "stdout"
        }
      ]
    },
    {
      "cell_type": "code",
      "metadata": {
        "id": "_NFHyf2vSPuU",
        "colab_type": "code",
        "colab": {}
      },
      "source": [
        ""
      ],
      "execution_count": 0,
      "outputs": []
    }
  ]
}